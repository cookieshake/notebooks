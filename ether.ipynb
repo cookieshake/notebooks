{
 "cells": [
  {
   "cell_type": "code",
   "execution_count": 7,
   "metadata": {
    "collapsed": true
   },
   "outputs": [],
   "source": [
    "BTC_URL = 'https://www.bithumb.com/resources/csv/xcoinTrade_minute.json'\n",
    "ETH_URL = 'https://www.bithumb.com/resources/csv/xcoinTradeAltcoin_minute.json'\n",
    "DASH_URL = 'https://www.bithumb.com/resources/csv/DASH_xcoinTradeAltcoin_minute.json'\n",
    "LTC_URL = 'https://www.bithumb.com/resources/csv/LTC_xcoinTradeAltcoin_minute.json'\n",
    "ETC_URL = 'https://www.bithumb.com/resources/csv/ETC_xcoinTradeAltcoin_minute.json'\n",
    "XRP_URL = 'https://www.bithumb.com/resources/csv/XRP_xcoinTradeAltcoin_minute.json'"
   ]
  },
  {
   "cell_type": "code",
   "execution_count": 8,
   "metadata": {
    "collapsed": true
   },
   "outputs": [],
   "source": [
    "def row_to_input(row, measure):\n",
    "    return {\n",
    "        'measurement': measure,\n",
    "        'time': int(row['time'] * 1000000),\n",
    "        'fields': {\n",
    "            'start': row['start'],\n",
    "            'end': row['end'],\n",
    "            'high': row['high'],\n",
    "            'low': row['low'],\n",
    "            'amount': row['amount']\n",
    "        }\n",
    "    }"
   ]
  },
  {
   "cell_type": "code",
   "execution_count": 9,
   "metadata": {
    "collapsed": true
   },
   "outputs": [],
   "source": [
    "def df_to_body(df, measure):\n",
    "    body = list()\n",
    "    for i, row in df.iterrows():\n",
    "        body.append(row_to_input(row, measure))\n",
    "    return body"
   ]
  },
  {
   "cell_type": "code",
   "execution_count": 10,
   "metadata": {
    "collapsed": true
   },
   "outputs": [],
   "source": [
    "from influxdb import InfluxDBClient\n",
    "client = InfluxDBClient('192.168.1.39', 8086, 'root', 'root', 'virtual_currency')"
   ]
  },
  {
   "cell_type": "code",
   "execution_count": 11,
   "metadata": {
    "collapsed": true
   },
   "outputs": [],
   "source": [
    "import pandas as pd\n",
    "import requests\n",
    "\n",
    "columns = ['time', 'start', 'end', 'high', 'low', 'amount']\n",
    "\n",
    "btc = pd.read_json(requests.get(BTC_URL).text)\n",
    "btc.columns = columns\n",
    "eth = pd.read_json(requests.get(ETH_URL).text)\n",
    "eth.columns = columns\n",
    "dash = pd.read_json(requests.get(DASH_URL).text)\n",
    "dash.columns = columns\n",
    "ltc = pd.read_json(requests.get(LTC_URL).text)\n",
    "ltc.columns = columns\n",
    "etc = pd.read_json(requests.get(ETC_URL).text)\n",
    "etc.columns = columns\n",
    "xrp = pd.read_json(requests.get(XRP_URL).text)\n",
    "xrp.columns = columns"
   ]
  },
  {
   "cell_type": "code",
   "execution_count": 12,
   "metadata": {},
   "outputs": [
    {
     "data": {
      "text/plain": [
       "True"
      ]
     },
     "execution_count": 12,
     "metadata": {},
     "output_type": "execute_result"
    }
   ],
   "source": [
    "client.write_points(df_to_body(btc, 'BTC'))\n",
    "client.write_points(df_to_body(eth, 'ETH'))\n",
    "client.write_points(df_to_body(dash, 'DASH'))\n",
    "client.write_points(df_to_body(ltc, 'LTC'))\n",
    "client.write_points(df_to_body(etc, 'ETC'))\n",
    "client.write_points(df_to_body(xrp, 'XRP'))"
   ]
  },
  {
   "cell_type": "code",
   "execution_count": null,
   "metadata": {
    "collapsed": true
   },
   "outputs": [],
   "source": []
  }
 ],
 "metadata": {
  "kernelspec": {
   "display_name": "Python 3",
   "language": "python",
   "name": "python3"
  },
  "language_info": {
   "codemirror_mode": {
    "name": "ipython",
    "version": 3
   },
   "file_extension": ".py",
   "mimetype": "text/x-python",
   "name": "python",
   "nbconvert_exporter": "python",
   "pygments_lexer": "ipython3",
   "version": "3.6.1"
  }
 },
 "nbformat": 4,
 "nbformat_minor": 2
}
