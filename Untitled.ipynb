{
 "cells": [
  {
   "cell_type": "code",
   "execution_count": 2,
   "metadata": {
    "collapsed": true
   },
   "outputs": [],
   "source": [
    "from bs4 import BeautifulSoup\n",
    "from os import listdir\n",
    "\n",
    "import re\n",
    "import pyokt\n",
    "import pickle\n",
    "\n",
    "files = listdir('./korpus')"
   ]
  },
  {
   "cell_type": "code",
   "execution_count": 1,
   "metadata": {
    "collapsed": true
   },
   "outputs": [],
   "source": [
    "def preprocess(text):\n",
    "    if text == '':\n",
    "        text = '저런 그랬구나'\n",
    "    text = re.sub('[?.~,:{}-]', '', text)\n",
    "    text = re.sub(' +', ' ', text)\n",
    "    text = text.replace('\\n', ' ')\n",
    "    return text\n",
    "\n",
    "\n",
    "def make_dialog(xml):\n",
    "    dialog = list()\n",
    "    utterances = xml.find_all('u')\n",
    "    for u in utterances:\n",
    "        text = ' '.join([s.get_text() for s in u.find_all('s')])\n",
    "        text = preprocess(text)\n",
    "        text = pyokt.tokenize(text, True, True)\n",
    "        dialog.append([t.text for t in text])\n",
    "    \n",
    "    return dialog"
   ]
  },
  {
   "cell_type": "code",
   "execution_count": 3,
   "metadata": {
    "collapsed": true
   },
   "outputs": [],
   "source": [
    "dialogs = list()\n",
    "for f in files:\n",
    "    k = open('./korpus/{}'.format(f), encoding='utf-16 le')\n",
    "    xml = BeautifulSoup(k.read(), 'html.parser')\n",
    "    dialogs.append(make_dialog(xml))"
   ]
  },
  {
   "cell_type": "code",
   "execution_count": 4,
   "metadata": {
    "collapsed": true
   },
   "outputs": [],
   "source": [
    "dictionary = dict()\n",
    "for d in dialogs: \n",
    "    for s in d:\n",
    "        for w in s:\n",
    "            dictionary[w] = dictionary[w] + 1 if w in dictionary else 1"
   ]
  },
  {
   "cell_type": "code",
   "execution_count": 9,
   "metadata": {},
   "outputs": [],
   "source": [
    "dict_list = list(dictionary.keys())"
   ]
  },
  {
   "cell_type": "code",
   "execution_count": null,
   "metadata": {
    "collapsed": true
   },
   "outputs": [],
   "source": []
  }
 ],
 "metadata": {
  "kernelspec": {
   "display_name": "Python 3",
   "language": "python",
   "name": "python3"
  },
  "language_info": {
   "codemirror_mode": {
    "name": "ipython",
    "version": 3
   },
   "file_extension": ".py",
   "mimetype": "text/x-python",
   "name": "python",
   "nbconvert_exporter": "python",
   "pygments_lexer": "ipython3",
   "version": "3.6.1"
  }
 },
 "nbformat": 4,
 "nbformat_minor": 2
}
