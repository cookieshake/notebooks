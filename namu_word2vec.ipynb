{
 "cells": [
  {
   "cell_type": "code",
   "execution_count": 4,
   "metadata": {
    "collapsed": true
   },
   "outputs": [],
   "source": [
    "from pymongo import MongoClient\n",
    "\n",
    "mc = MongoClient('192.168.1.32')\n",
    "namu_col = mc['namu_wiki']['namuwiki_20170327']"
   ]
  },
  {
   "cell_type": "code",
   "execution_count": 5,
   "metadata": {
    "collapsed": true
   },
   "outputs": [],
   "source": [
    "sample_text = namu_col.find()[84555]['text']"
   ]
  },
  {
   "cell_type": "code",
   "execution_count": 6,
   "metadata": {},
   "outputs": [
    {
     "data": {
      "text/plain": [
       "'[include(틀:아틀리에 시리즈)]\\n\\n리즈의 아틀리에 ~올도르의 연금술사~\\nリーズのアトリエ ~オルドールの錬金術士~\\n\\n[[2007년]] [[4월 19일]] [[닌텐도 DS]]로 첫 등장한 [[아틀리에 시리즈]]의 [[스핀오프]] 작품이자 \\'\\'\\'[[흑역사]].\\'\\'\\'\\n\\n참고로 원화가는 [[아수라 크라잉]]의 일러스트를 담당한 와타누키 나오(和狸ナオ)인데, 후에 나온 후속작들도 죄다 이 분이 담당하게 되었다. 매우 일관적인 그림체(...)를 자랑하기에 아는 사람이라면 흠칫할수도 있다.\\n\\n그 동안 발매되던 아틀리에 시리즈 작품들이 [[RPG]] 요소를 가미하여 기존 작품에서 탈피하려는 시도를 했던 것에 대한 반동인지, 본작은 아예 잘부르크와 그람나트 시절의 구성으로 회귀하려는 모토를 가지고 제작되었다. 즉 RPG 요소는 적어지고 경영 요소는 좀 늘어났다.\\n\\n스토리는 란델 왕국의 공주[* 신경쓰는 사람은 적겠지만, 조연은 몰라도 한 나라의 영애가 \\'\\'\\'[[주인공]]\\'\\'\\'으로 등장하는 경우는 사실 별로 없다. 이 뒤에 나온 작품만 따져봐도 [[메루루]] 정도가 고작. 나름대로 희소가치 있는 주인공인데도 불구하고 게임 잘못 만나서 망했다(...)]인 리제트 란델이 국왕의 헤픈 씀씀이로 인해 집안 재산이 거덜날 위기에 놓여 엄청난 빚을 지게 되자 이 상황을 타파하기 위해 \\'\\'\\'[[가출]]\\'\\'\\'해서(!!!) \\'\\'\\'옆동네\\'\\'\\'인 올도르 왕국[* 즉 제목의 올도르는 주인공의 출신지가 아닌 타향의 이름이다. 놀랍게도 이후에 DS로 나오는 작품에는 고전 작품들이 그랬던 것과는 달리 반드시 \\'\\'\\'주인공의 출신지 이름이 아닌 다른 지명이 붙으며 주인공이 전부 타지에서 활동한다.\\'\\'\\' ~~이것이 타향살이의 슬픔이다!~~]에 다다르게 되고, 거기서 연금술을 ~~야매로~~ 배워서 빚을 갚을 정도의 충분한 재산을 마련하는 다소 파격적인 이야기다. 그런데 국고가 바닥나서 빚을 질 정도면 란델 왕국은 어떤 의미로는 [[국가 막장 테크|막장국가]]인데 여기에 공주님까지 가출해버렸으니 그 뒤로 어떤 풍파가 날지는 전혀 고려하지 않은 것 같다. 애초에 공주 혼자서 한 나라 살릴 정도의 거금을, 그것도 홀로서기로 뚝딱 마련한다는 설정부터 말이 안 되니 그냥 특유의 호쾌함을 위한 의도적 막장 설정이라고 보는 게 맞다(...).\\n\\n하지만 나름대로 야심차다고 할 수 있는 시도에도 불구하고 이 게임은 [[쓰레기 게임]]으로 역사에 이름을 남기게 되는데 ~~사실 \\'\\'\\'[[데스크림존|이름을 날린 것]]\\'\\'\\'도 아니라서 그야말로 폭풍 [[망했어요]]~~ 이미 개발 시점에서 원인을 알 수 없는 [[버그]]가 여럿 발견되어서 발매일을 연기했는데, 발매연기를 거친 후에도 여전히 [[장비를 정지합니다|감당하지 못할]] 버그와 프리징이 산재해 있어서 그야말로 대차게 까였다. 결국 거스트에서는 [[2008년]] 초에야 수정판을 내놓아서 무상 교환해주는 조치를 취했지만 이미 망가질 대로 망가진 본작의 위치를 회복해줄 수는 없었던 모양. [[후새드]].\\n\\n엄연히 휴대기로 나온 아틀리에 시리즈의 시발점이 될 \\'\\'\\'뻔\\'\\'\\'한 작품이었지만 설계상의 문제 때문에 아쉽게도 묻혀버린 작품...인데, 사실 내용물 자체도 당시로선 그렇게 뛰어나지는 못하다는 평이 많았다고 한다. 다소 뜬금없는 설정이나 구성상의 문제, NDS 초기작의 문제점인 고지식한 풀 터치 진행방식 등. 그 외에 게임 내에 쓰인 폰트가 좀 많이 독특하다.(...)\\n\\n발매연기로 사운드 트랙이 먼저 나오는 사태가 일어났는데, 놀랍게도 한정판 음반 보너스이긴 하지만 \"[[마리 & 에리 ~두 사람의 아틀리에~]]\"와 \"[[마리, 에리 & 아니스의 아틀리에]] ~산들바람에게서 온 전언~\"의 사운드 트랙을 같이 내보냈다. 당시에 발매 요청이 많았다고. [[https://www.youtube.com/watch?v=ZlyLfQTxJ_U|테마곡(タカラモノ, 보물)]]을 담당한 사람은 [[카타키리 렛카]]. \\n\\n후속작으로 [[애니의 아틀리에]]가 있다. 이 쪽은 평작. 망작의 주인공이라는 누명을 벗으려고 했는지 리즈가 안 죽고 살아서(...) 동료로 등장하는데 여기서도 본작에서의 다소 파격적인 면모들이 대폭 수정되어서 말이 많았다.\\n[[분류:아틀리에 시리즈]][[분류:닌텐도 DS 게임 목록]]'"
      ]
     },
     "execution_count": 6,
     "metadata": {},
     "output_type": "execute_result"
    }
   ],
   "source": [
    "sample_text"
   ]
  },
  {
   "cell_type": "code",
   "execution_count": 7,
   "metadata": {},
   "outputs": [
    {
     "data": {
      "text/plain": [
       "'\\n리즈의 아틀리에 ~올도르의 연금술사~\\nリーズのアトリエ ~オルドールの錬金術士~\\n2007년 4월 19일 닌텐도 ds로 첫 등장한 아틀리에 시리즈의 스핀오프 작품이자 흑역사.\\n참고로 원화가는 아수라 크라잉의 일러스트를 담당한 와타누키 나오인데, 후에 나온 후속작들도 죄다 이 분이 담당하게 되었다. 매우 일관적인 그림체를 자랑하기에 아는 사람이라면 흠칫할수도 있다.\\n그 동안 발매되던 아틀리에 시리즈 작품들이 rpg 요소를 가미하여 기존 작품에서 탈피하려는 시도를 했던 것에 대한 반동인지, 본작은 아예 잘부르크와 그람나트 시절의 구성으로 회귀하려는 모토를 가지고 제작되었다. 즉 rpg 요소는 적어지고 경영 요소는 좀 늘어났다.\\n스토리는 란델 왕국의 공주인 리제트 란델이 국왕의 헤픈 씀씀이로 인해 집안 재산이 거덜날 위기에 놓여 엄청난 빚을 지게 되자 이 상황을 타파하기 위해 가출해서 옆동네인 올도르 왕국에 다다르게 되고, 거기서 연금술을  배워서 빚을 갚을 정도의 충분한 재산을 마련하는 다소 파격적인 이야기다. 그런데 국고가 바닥나서 빚을 질 정도면 란델 왕국은 어떤 의미로는 막장국가인데 여기에 공주님까지 가출해버렸으니 그 뒤로 어떤 풍파가 날지는 전혀 고려하지 않은 것 같다. 애초에 공주 혼자서 한 나라 살릴 정도의 거금을, 그것도 홀로서기로 뚝딱 마련한다는 설정부터 말이 안 되니 그냥 특유의 호쾌함을 위한 의도적 막장 설정이라고 보는 게 맞다.\\n하지만 나름대로 야심차다고 할 수 있는 시도에도 불구하고 이 게임은 쓰레기 게임으로 역사에 이름을 남기게 되는데  이미 개발 시점에서 원인을 알 수 없는 버그가 여럿 발견되어서 발매일을 연기했는데, 발매연기를 거친 후에도 여전히 감당하지 못할 버그와 프리징이 산재해 있어서 그야말로 대차게 까였다. 결국 거스트에서는 2008년 초에야 수정판을 내놓아서 무상 교환해주는 조치를 취했지만 이미 망가질 대로 망가진 본작의 위치를 회복해줄 수는 없었던 모양. 후새드.\\n엄연히 휴대기로 나온 아틀리에 시리즈의 시발점이 될 뻔한 작품이었지만 설계상의 문제 때문에 아쉽게도 묻혀버린 작품...인데, 사실 내용물 자체도 당시로선 그렇게 뛰어나지는 못하다는 평이 많았다고 한다. 다소 뜬금없는 설정이나 구성상의 문제, nds 초기작의 문제점인 고지식한 풀 터치 진행방식 등. 그 외에 게임 내에 쓰인 폰트가 좀 많이 독특하다.\\n발매연기로 사운드 트랙이 먼저 나오는 사태가 일어났는데, 놀랍게도 한정판 음반 보너스이긴 하지만 마리 & 에리 ~두 사람의 아틀리에~와 마리, 에리 & 아니스의 아틀리에 ~산들바람에게서 온 전언~의 사운드 트랙을 같이 내보냈다. 당시에 발매 요청이 많았다고. 테마곡을 담당한 사람은 카타키리 렛카. \\n후속작으로 애니의 아틀리에가 있다. 이 쪽은 평작. 망작의 주인공이라는 누명을 벗으려고 했는지 리즈가 안 죽고 살아서 동료로 등장하는데 여기서도 본작에서의 다소 파격적인 면모들이 대폭 수정되어서 말이 많았다.\\n'"
      ]
     },
     "execution_count": 7,
     "metadata": {},
     "output_type": "execute_result"
    }
   ],
   "source": [
    "import re\n",
    "def preprocess(text):\n",
    "    text = re.sub('\\[\\[파일:.+\\]\\]', '', text)\n",
    "    text = re.sub('\\[\\[분류:.+\\]\\]', '', text)\n",
    "    text = text.replace(\"'''\", '').replace(\"'\", '').replace('\"', '') # 따옴표 제거\n",
    "    text = text.replace('{{{', '').replace('}}}', '') # 코드 블럭 제거\n",
    "    text = text.replace('__', '') # 밑줄 제거\n",
    "    text = re.sub('\\[\\[[^\\[\\]]+\\|[^\\[\\]]+\\]\\]', lambda x: x[0].split('|')[1].replace(']]', ''), text)  # 링크 제거\n",
    "    text = re.sub('\\[\\[[^\\[\\]]+\\]\\]', lambda x: x[0].replace('[[', '').replace(']]', ''), text)  # 링크 제거\n",
    "    text = re.sub('\\[\\*[^\\[\\]]+\\]', '', text)  # 주석 제거\n",
    "    text = re.sub('\\[[^\\[\\]]+\\]', '', text)  # 틀 제거\n",
    "    text = re.sub('\\|\\|.+\\|\\|', '', text) # 표 제거\n",
    "    text = re.sub('==[^=]+==', '', text) # 목차 제거\n",
    "    text = re.sub('~~[^~]+~~', '', text) # 취소선 제거\n",
    "    text = re.sub('--[^-]+--', '', text) # 취소선 제거\n",
    "    text = re.sub('<math>[^<>]+</math>', '', text) # 수식 제거\n",
    "    text = re.sub('\\([^\\)\\(]+\\)', '', text) # 괄호 제거\n",
    "    text = re.sub('http://[a-zA-Z0-9_\\-/&\\.\\?=]+', '', text) # url 제거\n",
    "    text = re.sub('https://[a-zA-Z0-9_\\-/&\\.\\?=]+', '', text) # url 제거\n",
    "    \n",
    "    text = re.sub('[*…:><\\|=#]', '', text)\n",
    "    text = re.sub('\\n+', '\\n', text)\n",
    "    text = text.lower()\n",
    "\n",
    "    return text\n",
    "\n",
    "p_sample_text = preprocess(sample_text)\n",
    "p_sample_text"
   ]
  },
  {
   "cell_type": "code",
   "execution_count": 8,
   "metadata": {},
   "outputs": [
    {
     "name": "stdout",
     "output_type": "stream",
     "text": [
      "0.02127659574468085 리즈의 아틀리에 ~올도르의 연금술사~リーズのアトリエ ~オルドールの錬金術士~2007년 4월 19일 닌텐도 ds로 첫 등장한 아틀리에 시리즈의 스핀오프 작품이자 흑역사.\n",
      "0.0 참고로 원화가는 아수라 크라잉의 일러스트를 담당한 와타누키 나오인데, 후에 나온 후속작들도 죄다 이 분이 담당하게 되었다.\n",
      "0.0 매우 일관적인 그림체를 자랑하기에 아는 사람이라면 흠칫할수도 있다.\n",
      "0.02564102564102564 그 동안 발매되던 아틀리에 시리즈 작품들이 rpg 요소를 가미하여 기존 작품에서 탈피하려는 시도를 했던 것에 대한 반동인지, 본작은 아예 잘부르크와 그람나트 시절의 구성으로 회귀하려는 모토를 가지고 제작되었다.\n",
      "0.10344827586206896 즉 rpg 요소는 적어지고 경영 요소는 좀 늘어났다.\n",
      "0.0 스토리는 란델 왕국의 공주인 리제트 란델이 국왕의 헤픈 씀씀이로 인해 집안 재산이 거덜날 위기에 놓여 엄청난 빚을 지게 되자 이 상황을 타파하기 위해 가출해서 옆동네인 올도르 왕국에 다다르게 되고, 거기서 연금술을  배워서 빚을 갚을 정도의 충분한 재산을 마련하는 다소 파격적인 이야기다.\n",
      "0.0 그런데 국고가 바닥나서 빚을 질 정도면 란델 왕국은 어떤 의미로는 막장국가인데 여기에 공주님까지 가출해버렸으니 그 뒤로 어떤 풍파가 날지는 전혀 고려하지 않은 것 같다.\n",
      "0.0 애초에 공주 혼자서 한 나라 살릴 정도의 거금을, 그것도 홀로서기로 뚝딱 마련한다는 설정부터 말이 안 되니 그냥 특유의 호쾌함을 위한 의도적 막장 설정이라고 보는 게 맞다.\n",
      "0.0 하지만 나름대로 야심차다고 할 수 있는 시도에도 불구하고 이 게임은 쓰레기 게임으로 역사에 이름을 남기게 되는데  이미 개발 시점에서 원인을 알 수 없는 버그가 여럿 발견되어서 발매일을 연기했는데, 발매연기를 거친 후에도 여전히 감당하지 못할 버그와 프리징이 산재해 있어서 그야말로 대차게 까였다.\n",
      "0.0 결국 거스트에서는 2008년 초에야 수정판을 내놓아서 무상 교환해주는 조치를 취했지만 이미 망가질 대로 망가진 본작의 위치를 회복해줄 수는 없었던 모양.\n",
      "0.0 후새드.\n",
      "0.0 엄연히 휴대기로 나온 아틀리에 시리즈의 시발점이 될 뻔한 작품이었지만 설계상의 문제 때문에 아쉽게도 묻혀버린 작품...인데, 사실 내용물 자체도 당시로선 그렇게 뛰어나지는 못하다는 평이 많았다고 한다.\n",
      "0.05660377358490566 다소 뜬금없는 설정이나 구성상의 문제, nds 초기작의 문제점인 고지식한 풀 터치 진행방식 등.\n",
      "0.0 그 외에 게임 내에 쓰인 폰트가 좀 많이 독특하다.\n",
      "0.0 발매연기로 사운드 트랙이 먼저 나오는 사태가 일어났는데, 놀랍게도 한정판 음반 보너스이긴 하지만 마리 & 에리 ~두 사람의 아틀리에~와 마리, 에리 & 아니스의 아틀리에 ~산들바람에게서 온 전언~의 사운드 트랙을 같이 내보냈다.\n",
      "0.0 당시에 발매 요청이 많았다고.\n",
      "0.0 테마곡을 담당한 사람은 카타키리 렛카.\n",
      "0.0 후속작으로 애니의 아틀리에가 있다.\n",
      "0.0 이 쪽은 평작.\n",
      "0.0 망작의 주인공이라는 누명을 벗으려고 했는지 리즈가 안 죽고 살아서 동료로 등장하는데 여기서도 본작에서의 다소 파격적인 면모들이 대폭 수정되어서 말이 많았다.\n"
     ]
    }
   ],
   "source": [
    "import pyokt\n",
    "import string\n",
    "\n",
    "def alpha_portion(text):\n",
    "    count = 0\n",
    "    for c in text.replace(' ', ''):\n",
    "        count += 1 if c in string.ascii_letters else 0\n",
    "    return count / len(text)\n",
    "\n",
    "for s in pyokt.split_sentences(p_sample_text):\n",
    "    print(alpha_portion(s), s.replace('\\n', ''))"
   ]
  },
  {
   "cell_type": "code",
   "execution_count": 58,
   "metadata": {},
   "outputs": [
    {
     "name": "stdout",
     "output_type": "stream",
     "text": [
      "리즈 아틀리에 오다도르다 연금술사 2007년 4월 19일 닌텐도 ds로 첫 등장 아틀리에 시리즈 스핀오프 작품이자 흑역사\n",
      "참고 원화가 아수라 크라잉 일러스트 담당 와타누키 나오다 후 나오다 후속작 죄다 이 분 담당하다 되어다\n",
      "매우 일관 그림체 자랑하다 알다 사람라면 흠칫하다 있다\n",
      "그 동안 발매되다 아틀리에 시리즈 작품 rpg 요소 가미하다 기존 작품 탈피하다 시도 하다 것 대한 반동 본작 아예 잘부르다크다 그람나트 시절 구성 회귀하다 모토 가지 제작되어다\n",
      "즉 rpg 요소 적어지다 경영 요소 좀 늘어나다\n",
      "스토리 란델 왕국 공주 리제트 란델 국왕 헤픈 씀씀이 인하다 집안 재산 거덜날 위기 놓이다 엄청나다 빚 지게 되다 이 상황 타파하다 위해 가출 옆동네 오다도르다 왕국 다다르다 되다 거기 연금술 배우다 빚 갚다 정도 충분하다 재산 마련하다 다소 파격 이야기\n",
      "그런데 국고 바닥나다 빚 질 정도 란델 왕국 어떻다 의미 막장국가 여기 공주 가출버리다 그 뒤 어떻다 풍파 날 전혀 고려하다 않다 것 같다\n",
      "애초 공주 혼자 하다 나라 살리다 정도 거금 그것 홀로서기 뚝딱 마련한다는 설정 말 안 되다 그냥 특유 호쾌함 위 의도 막장 설정 보다 게 맞다\n",
      "하지만 나름 야심차다 하다 수 있다 시도 불구 이 게임 쓰레기 게임 역사 이름 남다 되다 이미 개발 시점 원인 알 수 없다 버그 여럿 발견되어다 발매일 연기하다 발매연기 거치다 후 여전하다 감당하다 못하다 버그 프리징 산재 있다 그야말로 대차다 끄다\n",
      "결국 거스트 2008년 초 수정판 내놓다 무상 교환해주다 조치 취 이미 망가지다 대로 망가지다 본작 위치 회복하다 수 없다 모양\n",
      "후새드\n",
      "엄연하다 휴대기 나오다 아틀리에 시리즈 시발점 되다 뻔하다 작품이다 설계상의 문제 때문 아쉽다 묻히다버리다 작품 사실 내용물 자체 당시선 그렇게 뛰어나다 못하다 평이 많다 하다\n",
      "다소 뜬금없다 설정 구성상의 문제 nds 초기작 문제점 고지식하다 풀 터치 진행방식 등\n",
      "그 외 게임 내 쓰이다 폰트 좀 많이 독특하다\n",
      "발매연기 사운드 트랙 먼저 나오다 사태 일어나다 놀라다 한정판 음반 보너스이기다 하지만 마리 에리 두 사람 아틀리에오다 마리 에리 아니스 아틀리에 산들바람 온 전언의 사운드 트랙 같이 내보내다\n",
      "당시 발매 요청 많다\n",
      "테마곡 담당 사람 카타키리 렛카\n",
      "후속작 애니 아틀리에 있다\n",
      "이 쪽 평작\n",
      "망작 주인공 누명 벗다 하다 리즈 안 죽다 살다 동료 등장하다 여기다 본작 다소 파격 면모 대폭 수정되어다 말 많다\n"
     ]
    }
   ],
   "source": [
    "def normalize(text):\n",
    "    tokens = [t for t in pyokt.tokenize(text, True, True) if t.pos not in ['Josa', 'Punctuation', 'Suffix', 'Foreign']]\n",
    "    text = ''.join([t.text for t in tokens])\n",
    "    text = re.sub(' +', ' ', text)\n",
    "    return text\n",
    "    \n",
    "for s in pyokt.split_sentences(p_sample_text):\n",
    "    print(normalize(s))"
   ]
  },
  {
   "cell_type": "code",
   "execution_count": 50,
   "metadata": {},
   "outputs": [
    {
     "name": "stdout",
     "output_type": "stream",
     "text": [
      "[리즈(Noun: 0, 2), 의(Josa: 2, 1),  (Space: 3, 1), 아틀리에(Noun: 4, 4),  (Space: 8, 1), ~(Punctuation: 9, 1), 올(Verb: 10, 1), 도르의(Verb: 11, 3),  (Space: 14, 1), 연금술사(Noun: 15, 4), ~(Punctuation: 19, 1), \n",
      "(Foreign: 20, 1), リーズのアトリエ(Foreign: 21, 8),  (Space: 29, 1), ~(Punctuation: 30, 1), オルドールの錬金術士(Foreign: 31, 10), ~(Punctuation: 41, 1), \n",
      "(Foreign: 42, 1), 2007년(Number: 43, 5),  (Space: 48, 1), 4월(Number: 49, 2),  (Space: 51, 1), 19일(Number: 52, 3),  (Space: 55, 1), 닌텐도(Noun: 56, 3),  (Space: 59, 1), ds(Alpha: 60, 2), 로(Noun: 62, 1),  (Space: 63, 1), 첫(Noun: 64, 1),  (Space: 65, 1), 등장(Noun: 66, 2), 한(Josa: 68, 1),  (Space: 69, 1), 아틀리에(Noun: 70, 4),  (Space: 74, 1), 시리즈(Noun: 75, 3), 의(Josa: 78, 1),  (Space: 79, 1), 스핀오프(Noun: 80, 4),  (Space: 84, 1), 작품(Noun: 85, 2), 이자(Noun: 87, 2),  (Space: 89, 1), 흑역사(Noun: 90, 3), .(Punctuation: 93, 1)]\n",
      "[참고(Noun: 0, 2), 로(Josa: 2, 1),  (Space: 3, 1), 원(Modifier: 4, 1), 화가(Noun: 5, 2), 는(Josa: 7, 1),  (Space: 8, 1), 아수라(Noun: 9, 3),  (Space: 12, 1), 크라잉(Noun: 13, 3), 의(Josa: 16, 1),  (Space: 17, 1), 일러스트(Noun: 18, 4), 를(Josa: 22, 1),  (Space: 23, 1), 담당(Noun: 24, 2), 한(Josa: 26, 1),  (Space: 27, 1), 와타누키(Noun: 28, 4),  (Space: 32, 1), 나오인데(Verb: 33, 4), ,(Punctuation: 37, 1),  (Space: 38, 1), 후(Noun: 39, 1), 에(Josa: 40, 1),  (Space: 41, 1), 나온(Verb: 42, 2),  (Space: 44, 1), 후속작(Noun: 45, 3), 들(Suffix: 48, 1), 도(Josa: 49, 1),  (Space: 50, 1), 죄다(Adverb: 51, 2),  (Space: 53, 1), 이(Noun: 54, 1),  (Space: 55, 1), 분(Noun: 56, 1), 이(Josa: 57, 1),  (Space: 58, 1), 담당(Noun: 59, 2), 하게(Verb: 61, 2),  (Space: 63, 1), 되었다(Verb: 64, 3), .(Punctuation: 67, 1)]\n",
      "[매우(Noun: 0, 2),  (Space: 2, 1), 일관(Noun: 3, 2), 적(Suffix: 5, 1), 인(Josa: 6, 1),  (Space: 7, 1), 그림(Noun: 8, 2), 체(Noun: 10, 1), 를(Josa: 11, 1),  (Space: 12, 1), 자랑(Noun: 13, 2), 하기에(Verb: 15, 3),  (Space: 18, 1), 아는(Verb: 19, 2),  (Space: 21, 1), 사람(Noun: 22, 2), 이(Josa: 24, 1), 라면(Noun: 25, 2),  (Space: 27, 1), 흠칫(Noun: 28, 2), 할수도(Verb: 30, 3),  (Space: 33, 1), 있다(Adjective: 34, 2), .(Punctuation: 36, 1)]\n",
      "[그(Noun: 0, 1),  (Space: 1, 1), 동안(Noun: 2, 2),  (Space: 4, 1), 발매(Noun: 5, 2), 되던(Verb: 7, 2),  (Space: 9, 1), 아틀리에(Noun: 10, 4),  (Space: 14, 1), 시리즈(Noun: 15, 3),  (Space: 18, 1), 작품(Noun: 19, 2), 들(Suffix: 21, 1), 이(Josa: 22, 1),  (Space: 23, 1), rpg(Alpha: 24, 3),  (Space: 27, 1), 요소(Noun: 28, 2), 를(Josa: 30, 1),  (Space: 31, 1), 가미(Noun: 32, 2), 하여(Verb: 34, 2),  (Space: 36, 1), 기존(Noun: 37, 2),  (Space: 39, 1), 작품(Noun: 40, 2), 에서(Josa: 42, 2),  (Space: 44, 1), 탈피(Noun: 45, 2), 하려는(Verb: 47, 3),  (Space: 50, 1), 시도(Noun: 51, 2), 를(Josa: 53, 1),  (Space: 54, 1), 했던(Verb: 55, 2),  (Space: 57, 1), 것(Noun: 58, 1), 에(Josa: 59, 1),  (Space: 60, 1), 대한(Noun: 61, 2),  (Space: 63, 1), 반동(Noun: 64, 2), 인지(Josa: 66, 2), ,(Punctuation: 68, 1),  (Space: 69, 1), 본(Modifier: 70, 1), 작(Noun: 71, 1), 은(Josa: 72, 1),  (Space: 73, 1), 아예(Noun: 74, 2),  (Space: 76, 1), 잘(VerbPrefix: 77, 1), 부르(Verb: 78, 2), 크와(Verb: 80, 2),  (Space: 82, 1), 그람(Noun: 83, 2), 나트(Noun: 85, 2),  (Space: 87, 1), 시절(Noun: 88, 2), 의(Josa: 90, 1),  (Space: 91, 1), 구성(Noun: 92, 2), 으로(Josa: 94, 2),  (Space: 96, 1), 회귀(Noun: 97, 2), 하려는(Verb: 99, 3),  (Space: 102, 1), 모토(Noun: 103, 2), 를(Josa: 105, 1),  (Space: 106, 1), 가지(Noun: 107, 2), 고(Josa: 109, 1),  (Space: 110, 1), 제작(Noun: 111, 2), 되었다(Verb: 113, 3), .(Punctuation: 116, 1)]\n",
      "[즉(Noun: 0, 1),  (Space: 1, 1), rpg(Alpha: 2, 3),  (Space: 5, 1), 요소(Noun: 6, 2), 는(Josa: 8, 1),  (Space: 9, 1), 적어지고(Verb: 10, 4),  (Space: 14, 1), 경영(Noun: 15, 2),  (Space: 17, 1), 요소(Noun: 18, 2), 는(Josa: 20, 1),  (Space: 21, 1), 좀(Noun: 22, 1),  (Space: 23, 1), 늘어났다(Verb: 24, 4), .(Punctuation: 28, 1)]\n",
      "[스토리(Noun: 0, 3), 는(Josa: 3, 1),  (Space: 4, 1), 란델(Noun: 5, 2),  (Space: 7, 1), 왕국(Noun: 8, 2), 의(Josa: 10, 1),  (Space: 11, 1), 공주(Noun: 12, 2), 인(Josa: 14, 1),  (Space: 15, 1), 리(Noun: 16, 1), 제트(Noun: 17, 2),  (Space: 19, 1), 란델(Noun: 20, 2), 이(Josa: 22, 1),  (Space: 23, 1), 국왕(Noun: 24, 2), 의(Josa: 26, 1),  (Space: 27, 1), 헤픈(Noun: 28, 2),  (Space: 30, 1), 씀씀이(Noun: 31, 3), 로(Josa: 34, 1),  (Space: 35, 1), 인해(Adjective: 36, 2),  (Space: 38, 1), 집안(Noun: 39, 2),  (Space: 41, 1), 재산(Noun: 42, 2), 이(Josa: 44, 1),  (Space: 45, 1), 거덜날(Noun: 46, 3),  (Space: 49, 1), 위기(Noun: 50, 2), 에(Josa: 52, 1),  (Space: 53, 1), 놓여(Verb: 54, 2),  (Space: 56, 1), 엄청난(Adjective: 57, 3),  (Space: 60, 1), 빚(Noun: 61, 1), 을(Josa: 62, 1),  (Space: 63, 1), 지게(Noun: 64, 2),  (Space: 66, 1), 되자(Verb: 67, 2),  (Space: 69, 1), 이(Noun: 70, 1),  (Space: 71, 1), 상황(Noun: 72, 2), 을(Josa: 74, 1),  (Space: 75, 1), 타파(Noun: 76, 2), 하기(Verb: 78, 2),  (Space: 80, 1), 위해(Noun: 81, 2),  (Space: 83, 1), 가출(Noun: 84, 2), 해서(Josa: 86, 2),  (Space: 88, 1), 옆(Noun: 89, 1), 동네(Noun: 90, 2), 인(Josa: 92, 1),  (Space: 93, 1), 올(Verb: 94, 1), 도르(Verb: 95, 2),  (Space: 97, 1), 왕국(Noun: 98, 2), 에(Josa: 100, 1),  (Space: 101, 1), 다다르게(Verb: 102, 4),  (Space: 106, 1), 되고(Verb: 107, 2), ,(Punctuation: 109, 1),  (Space: 110, 1), 거기(Noun: 111, 2), 서(Josa: 113, 1),  (Space: 114, 1), 연금술(Noun: 115, 3), 을(Josa: 118, 1),   (Space: 119, 2), 배워서(Verb: 121, 3),  (Space: 124, 1), 빚(Noun: 125, 1), 을(Josa: 126, 1),  (Space: 127, 1), 갚을(Verb: 128, 2),  (Space: 130, 1), 정도(Noun: 131, 2), 의(Josa: 133, 1),  (Space: 134, 1), 충분한(Adjective: 135, 3),  (Space: 138, 1), 재산(Noun: 139, 2), 을(Josa: 141, 1),  (Space: 142, 1), 마련(Noun: 143, 2), 하는(Verb: 145, 2),  (Space: 147, 1), 다소(Noun: 148, 2),  (Space: 150, 1), 파격(Noun: 151, 2), 적(Suffix: 153, 1), 인(Josa: 154, 1),  (Space: 155, 1), 이야기(Noun: 156, 3), 다(Josa: 159, 1), .(Punctuation: 160, 1)]\n",
      "[그런데(Conjunction: 0, 3),  (Space: 3, 1), 국고(Noun: 4, 2), 가(Josa: 6, 1),  (Space: 7, 1), 바닥나서(Verb: 8, 4),  (Space: 12, 1), 빚(Noun: 13, 1), 을(Josa: 14, 1),  (Space: 15, 1), 질(Noun: 16, 1),  (Space: 17, 1), 정도(Noun: 18, 2), 면(Josa: 20, 1),  (Space: 21, 1), 란델(Noun: 22, 2),  (Space: 24, 1), 왕국(Noun: 25, 2), 은(Josa: 27, 1),  (Space: 28, 1), 어떤(Adjective: 29, 2),  (Space: 31, 1), 의미(Noun: 32, 2), 로는(Josa: 34, 2),  (Space: 36, 1), 막장(Noun: 37, 2), 국가(Noun: 39, 2), 인데(Josa: 41, 2),  (Space: 43, 1), 여기(Noun: 44, 2), 에(Josa: 46, 1),  (Space: 47, 1), 공주(Noun: 48, 2), 님(Suffix: 50, 1), 까지(Josa: 51, 2),  (Space: 53, 1), 가출(Noun: 54, 2), 해(Josa: 56, 1), 버렸으니(Verb: 57, 4),  (Space: 61, 1), 그(Noun: 62, 1),  (Space: 63, 1), 뒤(Noun: 64, 1), 로(Josa: 65, 1),  (Space: 66, 1), 어떤(Adjective: 67, 2),  (Space: 69, 1), 풍파(Noun: 70, 2), 가(Josa: 72, 1),  (Space: 73, 1), 날(Noun: 74, 1), 지는(Josa: 75, 2),  (Space: 77, 1), 전혀(Noun: 78, 2),  (Space: 80, 1), 고려(Noun: 81, 2), 하지(Verb: 83, 2),  (Space: 85, 1), 않은(Verb: 86, 2),  (Space: 88, 1), 것(Noun: 89, 1),  (Space: 90, 1), 같다(Adjective: 91, 2), .(Punctuation: 93, 1)]\n",
      "[애초(Noun: 0, 2), 에(Josa: 2, 1),  (Space: 3, 1), 공주(Noun: 4, 2),  (Space: 6, 1), 혼자(Noun: 7, 2), 서(Josa: 9, 1),  (Space: 10, 1), 한(Verb: 11, 1),  (Space: 12, 1), 나라(Noun: 13, 2),  (Space: 15, 1), 살릴(Verb: 16, 2),  (Space: 18, 1), 정도(Noun: 19, 2), 의(Josa: 21, 1),  (Space: 22, 1), 거금(Noun: 23, 2), 을(Josa: 25, 1), ,(Punctuation: 26, 1),  (Space: 27, 1), 그것(Noun: 28, 2), 도(Josa: 30, 1),  (Space: 31, 1), 홀로(Noun: 32, 2), 서기(Noun: 34, 2), 로(Josa: 36, 1),  (Space: 37, 1), 뚝딱(Noun: 38, 2),  (Space: 40, 1), 마련(Noun: 41, 2), 한다는(Modifier: 43, 3),  (Space: 46, 1), 설정(Noun: 47, 2), 부터(Josa: 49, 2),  (Space: 51, 1), 말(Noun: 52, 1), 이(Josa: 53, 1),  (Space: 54, 1), 안(Noun: 55, 1),  (Space: 56, 1), 되니(Verb: 57, 2),  (Space: 59, 1), 그냥(Noun: 60, 2),  (Space: 62, 1), 특유(Noun: 63, 2), 의(Josa: 65, 1),  (Space: 66, 1), 호쾌(Noun: 67, 2), 함(Noun: 69, 1), 을(Josa: 70, 1),  (Space: 71, 1), 위(Noun: 72, 1), 한(Josa: 73, 1),  (Space: 74, 1), 의도(Noun: 75, 2), 적(Suffix: 77, 1),  (Space: 78, 1), 막장(Noun: 79, 2),  (Space: 81, 1), 설정(Noun: 82, 2), 이라고(Josa: 84, 3),  (Space: 87, 1), 보는(Verb: 88, 2),  (Space: 90, 1), 게(Noun: 91, 1),  (Space: 92, 1), 맞다(Verb: 93, 2), .(Punctuation: 95, 1)]\n",
      "[하지만(Conjunction: 0, 3),  (Space: 3, 1), 나름(Noun: 4, 2), 대로(Josa: 6, 2),  (Space: 8, 1), 야심(Noun: 9, 2), 차다고(Verb: 11, 3),  (Space: 14, 1), 할(Verb: 15, 1),  (Space: 16, 1), 수(Noun: 17, 1),  (Space: 18, 1), 있는(Adjective: 19, 2),  (Space: 21, 1), 시도(Noun: 22, 2), 에도(Josa: 24, 2),  (Space: 26, 1), 불구(Noun: 27, 2), 하고(Josa: 29, 2),  (Space: 31, 1), 이(Noun: 32, 1),  (Space: 33, 1), 게임(Noun: 34, 2), 은(Josa: 36, 1),  (Space: 37, 1), 쓰레기(Noun: 38, 3),  (Space: 41, 1), 게임(Noun: 42, 2), 으로(Josa: 44, 2),  (Space: 46, 1), 역사(Noun: 47, 2), 에(Josa: 49, 1),  (Space: 50, 1), 이름(Noun: 51, 2), 을(Josa: 53, 1),  (Space: 54, 1), 남기게(Verb: 55, 3),  (Space: 58, 1), 되는데(Verb: 59, 3),   (Space: 62, 2), 이미(Adverb: 64, 2),  (Space: 66, 1), 개발(Noun: 67, 2),  (Space: 69, 1), 시점(Noun: 70, 2), 에서(Josa: 72, 2),  (Space: 74, 1), 원인(Noun: 75, 2), 을(Josa: 77, 1),  (Space: 78, 1), 알(Noun: 79, 1),  (Space: 80, 1), 수(Noun: 81, 1),  (Space: 82, 1), 없는(Adjective: 83, 2),  (Space: 85, 1), 버그(Noun: 86, 2), 가(Josa: 88, 1),  (Space: 89, 1), 여럿(Noun: 90, 2),  (Space: 92, 1), 발견(Noun: 93, 2), 되어서(Verb: 95, 3),  (Space: 98, 1), 발매(Noun: 99, 2), 일(Noun: 101, 1), 을(Josa: 102, 1),  (Space: 103, 1), 연기(Noun: 104, 2), 했는데(Verb: 106, 3), ,(Punctuation: 109, 1),  (Space: 110, 1), 발매(Noun: 111, 2), 연기(Noun: 113, 2), 를(Josa: 115, 1),  (Space: 116, 1), 거친(Verb: 117, 2),  (Space: 119, 1), 후(Noun: 120, 1), 에도(Josa: 121, 2),  (Space: 123, 1), 여전히(Adjective: 124, 3),  (Space: 127, 1), 감당(Noun: 128, 2), 하지(Verb: 130, 2),  (Space: 132, 1), 못(VerbPrefix: 133, 1), 할(Verb: 134, 1),  (Space: 135, 1), 버그(Noun: 136, 2), 와(Josa: 138, 1),  (Space: 139, 1), 프리징(Noun: 140, 3), 이(Josa: 143, 1),  (Space: 144, 1), 산재(Noun: 145, 2), 해(Josa: 147, 1),  (Space: 148, 1), 있어서(Adjective: 149, 3),  (Space: 152, 1), 그야말로(Adverb: 153, 4),  (Space: 157, 1), 대차게(Adjective: 158, 3),  (Space: 161, 1), 까였다(Verb: 162, 3), .(Punctuation: 165, 1)]\n",
      "[결국(Adverb: 0, 2),  (Space: 2, 1), 거스트(Noun: 3, 3), 에서는(Josa: 6, 3),  (Space: 9, 1), 2008년(Number: 10, 5),  (Space: 15, 1), 초(Noun: 16, 1), 에야(Josa: 17, 2),  (Space: 19, 1), 수(Modifier: 20, 1), 정판(Noun: 21, 2), 을(Josa: 23, 1),  (Space: 24, 1), 내놓아서(Verb: 25, 4),  (Space: 29, 1), 무상(Noun: 30, 2),  (Space: 32, 1), 교환(Noun: 33, 2), 해주는(Verb: 35, 3),  (Space: 38, 1), 조치(Noun: 39, 2), 를(Josa: 41, 1),  (Space: 42, 1), 취(Noun: 43, 1), 했지만(Josa: 44, 3),  (Space: 47, 1), 이미(Adverb: 48, 2),  (Space: 50, 1), 망가질(Verb: 51, 3),  (Space: 54, 1), 대로(Noun: 55, 2),  (Space: 57, 1), 망가진(Verb: 58, 3),  (Space: 61, 1), 본(Modifier: 62, 1), 작(Noun: 63, 1), 의(Josa: 64, 1),  (Space: 65, 1), 위치(Noun: 66, 2), 를(Josa: 68, 1),  (Space: 69, 1), 회복해줄(Adjective: 70, 4),  (Space: 74, 1), 수(Noun: 75, 1), 는(Josa: 76, 1),  (Space: 77, 1), 없었던(Adjective: 78, 3),  (Space: 81, 1), 모양(Noun: 82, 2), .(Punctuation: 84, 1)]\n",
      "[후새드(Noun: 0, 3), .(Punctuation: 3, 1)]\n",
      "[엄연히(Adjective: 0, 3),  (Space: 3, 1), 휴(Exclamation: 4, 1), 대기(Noun: 5, 2), 로(Josa: 7, 1),  (Space: 8, 1), 나온(Verb: 9, 2),  (Space: 11, 1), 아틀리에(Noun: 12, 4),  (Space: 16, 1), 시리즈(Noun: 17, 3), 의(Josa: 20, 1),  (Space: 21, 1), 시발(Noun: 22, 2), 점(Noun: 24, 1), 이(Josa: 25, 1),  (Space: 26, 1), 될(Verb: 27, 1),  (Space: 28, 1), 뻔한(Adjective: 29, 2),  (Space: 31, 1), 작품(Noun: 32, 2), 이었지만(Verb: 34, 4),  (Space: 38, 1), 설계(Noun: 39, 2), 상의(Noun: 41, 2),  (Space: 43, 1), 문제(Noun: 44, 2),  (Space: 46, 1), 때문(Noun: 47, 2), 에(Josa: 49, 1),  (Space: 50, 1), 아쉽게도(Adjective: 51, 4),  (Space: 55, 1), 묻혀(Verb: 56, 2), 버린(Verb: 58, 2),  (Space: 60, 1), 작품(Noun: 61, 2), ...(Punctuation: 63, 3), 인데(Josa: 66, 2), ,(Punctuation: 68, 1),  (Space: 69, 1), 사실(Noun: 70, 2),  (Space: 72, 1), 내용물(Noun: 73, 3),  (Space: 76, 1), 자체(Noun: 77, 2), 도(Josa: 79, 1),  (Space: 80, 1), 당시(Noun: 81, 2), 로(Josa: 83, 1), 선(Noun: 84, 1),  (Space: 85, 1), 그렇게(Adverb: 86, 3),  (Space: 89, 1), 뛰어나지는(Adjective: 90, 5),  (Space: 95, 1), 못(VerbPrefix: 96, 1), 하다는(Verb: 97, 3),  (Space: 100, 1), 평이(Noun: 101, 2),  (Space: 103, 1), 많았다고(Adjective: 104, 4),  (Space: 108, 1), 한다(Verb: 109, 2), .(Punctuation: 111, 1)]\n",
      "[다소(Noun: 0, 2),  (Space: 2, 1), 뜬금(Noun: 3, 2), 없는(Adjective: 5, 2),  (Space: 7, 1), 설정(Noun: 8, 2), 이나(Josa: 10, 2),  (Space: 12, 1), 구성(Noun: 13, 2), 상의(Noun: 15, 2),  (Space: 17, 1), 문제(Noun: 18, 2), ,(Punctuation: 20, 1),  (Space: 21, 1), nds(Alpha: 22, 3),  (Space: 25, 1), 초기(Noun: 26, 2), 작(Noun: 28, 1), 의(Josa: 29, 1),  (Space: 30, 1), 문제점(Noun: 31, 3), 인(Josa: 34, 1),  (Space: 35, 1), 고지식한(Adjective: 36, 4),  (Space: 40, 1), 풀(Noun: 41, 1),  (Space: 42, 1), 터치(Noun: 43, 2),  (Space: 45, 1), 진행(Noun: 46, 2), 방식(Noun: 48, 2),  (Space: 50, 1), 등(Noun: 51, 1), .(Punctuation: 52, 1)]\n",
      "[그(Noun: 0, 1),  (Space: 1, 1), 외(Noun: 2, 1), 에(Josa: 3, 1),  (Space: 4, 1), 게임(Noun: 5, 2),  (Space: 7, 1), 내(Noun: 8, 1), 에(Josa: 9, 1),  (Space: 10, 1), 쓰인(Verb: 11, 2),  (Space: 13, 1), 폰트(Noun: 14, 2), 가(Josa: 16, 1),  (Space: 17, 1), 좀(Noun: 18, 1),  (Space: 19, 1), 많이(Adverb: 20, 2),  (Space: 22, 1), 독특하다(Adjective: 23, 4), .(Punctuation: 27, 1)]\n"
     ]
    },
    {
     "name": "stdout",
     "output_type": "stream",
     "text": [
      "[발매(Noun: 0, 2), 연기(Noun: 2, 2), 로(Josa: 4, 1),  (Space: 5, 1), 사운드(Noun: 6, 3),  (Space: 9, 1), 트랙(Noun: 10, 2), 이(Josa: 12, 1),  (Space: 13, 1), 먼저(Noun: 14, 2),  (Space: 16, 1), 나오는(Verb: 17, 3),  (Space: 20, 1), 사태(Noun: 21, 2), 가(Josa: 23, 1),  (Space: 24, 1), 일어났는데(Verb: 25, 5), ,(Punctuation: 30, 1),  (Space: 31, 1), 놀랍게도(Verb: 32, 4),  (Space: 36, 1), 한정판(Noun: 37, 3),  (Space: 40, 1), 음반(Noun: 41, 2),  (Space: 43, 1), 보너스(Noun: 44, 3), 이긴(Verb: 47, 2),  (Space: 49, 1), 하지만(Conjunction: 50, 3),  (Space: 53, 1), 마리(Noun: 54, 2),  (Space: 56, 1), &(Punctuation: 57, 1),  (Space: 58, 1), 에리(Noun: 59, 2),  (Space: 61, 1), ~(Punctuation: 62, 1), 두(Noun: 63, 1),  (Space: 64, 1), 사람(Noun: 65, 2), 의(Josa: 67, 1),  (Space: 68, 1), 아틀리에(Noun: 69, 4), ~(Punctuation: 73, 1), 와(Verb: 74, 1),  (Space: 75, 1), 마리(Noun: 76, 2), ,(Punctuation: 78, 1),  (Space: 79, 1), 에리(Noun: 80, 2),  (Space: 82, 1), &(Punctuation: 83, 1),  (Space: 84, 1), 아니스(Noun: 85, 3), 의(Josa: 88, 1),  (Space: 89, 1), 아틀리에(Noun: 90, 4),  (Space: 94, 1), ~(Punctuation: 95, 1), 산들바람(Noun: 96, 4), 에게서(Josa: 100, 3),  (Space: 103, 1), 온(Noun: 104, 1),  (Space: 105, 1), 전언(Noun: 106, 2), ~(Punctuation: 108, 1), 의(Noun: 109, 1),  (Space: 110, 1), 사운드(Noun: 111, 3),  (Space: 114, 1), 트랙(Noun: 115, 2), 을(Josa: 117, 1),  (Space: 118, 1), 같이(Adverb: 119, 2),  (Space: 121, 1), 내보냈다(Verb: 122, 4), .(Punctuation: 126, 1)]\n",
      "[당시(Noun: 0, 2), 에(Josa: 2, 1),  (Space: 3, 1), 발매(Noun: 4, 2),  (Space: 6, 1), 요청(Noun: 7, 2), 이(Josa: 9, 1),  (Space: 10, 1), 많았다고(Adjective: 11, 4), .(Punctuation: 15, 1)]\n",
      "[테마(Noun: 0, 2), 곡(Noun: 2, 1), 을(Josa: 3, 1),  (Space: 4, 1), 담당(Noun: 5, 2), 한(Josa: 7, 1),  (Space: 8, 1), 사람(Noun: 9, 2), 은(Josa: 11, 1),  (Space: 12, 1), 카(Noun: 13, 1), 타키(Noun: 14, 2), 리(Noun: 16, 1),  (Space: 17, 1), 렛카(Noun: 18, 2), .(Punctuation: 20, 1)]\n",
      "[후속작(Noun: 0, 3), 으로(Josa: 3, 2),  (Space: 5, 1), 애니(Noun: 6, 2), 의(Josa: 8, 1),  (Space: 9, 1), 아틀리에(Noun: 10, 4), 가(Josa: 14, 1),  (Space: 15, 1), 있다(Adjective: 16, 2), .(Punctuation: 18, 1)]\n",
      "[이(Noun: 0, 1),  (Space: 1, 1), 쪽(Noun: 2, 1), 은(Josa: 3, 1),  (Space: 4, 1), 평작(Noun: 5, 2), .(Punctuation: 7, 1)]\n",
      "[망작(Noun: 0, 2), 의(Josa: 2, 1),  (Space: 3, 1), 주인공(Noun: 4, 3), 이라는(Josa: 7, 3),  (Space: 10, 1), 누명(Noun: 11, 2), 을(Josa: 13, 1),  (Space: 14, 1), 벗으려고(Verb: 15, 4),  (Space: 19, 1), 했는지(Verb: 20, 3),  (Space: 23, 1), 리즈(Noun: 24, 2), 가(Josa: 26, 1),  (Space: 27, 1), 안(Noun: 28, 1),  (Space: 29, 1), 죽고(Verb: 30, 2),  (Space: 32, 1), 살아서(Verb: 33, 3),  (Space: 36, 1), 동료(Noun: 37, 2), 로(Josa: 39, 1),  (Space: 40, 1), 등장(Noun: 41, 2), 하는데(Verb: 43, 3),  (Space: 46, 1), 여기서도(Verb: 47, 4),  (Space: 51, 1), 본(Modifier: 52, 1), 작(Noun: 53, 1), 에서의(Josa: 54, 3),  (Space: 57, 1), 다소(Noun: 58, 2),  (Space: 60, 1), 파격(Noun: 61, 2), 적(Suffix: 63, 1), 인(Josa: 64, 1),  (Space: 65, 1), 면모(Noun: 66, 2), 들(Suffix: 68, 1), 이(Josa: 69, 1),  (Space: 70, 1), 대폭(Noun: 71, 2),  (Space: 73, 1), 수정(Noun: 74, 2), 되어서(Verb: 76, 3),  (Space: 79, 1), 말(Noun: 80, 1), 이(Josa: 81, 1),  (Space: 82, 1), 많았다(Adjective: 83, 3), .(Punctuation: 86, 1)]\n"
     ]
    }
   ],
   "source": [
    "for s in pyokt.split_sentences(p_sample_text):\n",
    "    print(pyokt.tokenize(s))"
   ]
  },
  {
   "cell_type": "code",
   "execution_count": null,
   "metadata": {
    "collapsed": true
   },
   "outputs": [],
   "source": []
  }
 ],
 "metadata": {
  "kernelspec": {
   "display_name": "Python 3",
   "language": "python",
   "name": "python3"
  },
  "language_info": {
   "codemirror_mode": {
    "name": "ipython",
    "version": 3
   },
   "file_extension": ".py",
   "mimetype": "text/x-python",
   "name": "python",
   "nbconvert_exporter": "python",
   "pygments_lexer": "ipython3",
   "version": "3.6.1"
  }
 },
 "nbformat": 4,
 "nbformat_minor": 2
}
