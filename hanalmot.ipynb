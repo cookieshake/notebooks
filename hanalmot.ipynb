{
 "cells": [
  {
   "cell_type": "code",
   "execution_count": 1,
   "metadata": {},
   "outputs": [],
   "source": [
    "from collections import deque\n",
    "\n",
    "srts = ['ㄱ', 'ㄲ', 'ㄴ', 'ㄷ', 'ㄸ', 'ㄹ', 'ㅁ', 'ㅂ', 'ㅃ', 'ㅅ', 'ㅆ', 'ㅇ', 'ㅈ', 'ㅉ', 'ㅊ', 'ㅋ', 'ㅌ', 'ㅍ', 'ㅎ']\n",
    "mids = ['ㅏ', 'ㅐ', 'ㅑ', 'ㅒ', 'ㅓ', 'ㅔ', 'ㅕ', 'ㅖ', 'ㅗ', 'ㅘ', 'ㅙ', 'ㅚ', 'ㅛ', 'ㅜ', 'ㅝ', 'ㅞ', 'ㅟ', 'ㅠ', 'ㅡ', 'ㅢ', 'ㅣ']\n",
    "ends = ['', 'ㄱ', 'ㄲ', 'ㄳ', 'ㄴ', 'ㄵ', 'ㄶ', 'ㄷ', 'ㄹ', 'ㄺ', 'ㄻ', 'ㄼ', 'ㄽ', 'ㄾ', 'ㄿ', 'ㅀ', 'ㅁ', 'ㅂ', 'ㅄ', 'ㅅ', 'ㅆ', 'ㅇ', 'ㅈ', 'ㅊ', 'ㅋ', 'ㅌ', 'ㅍ', 'ㅎ']\n",
    "\n",
    "def split_char(char):\n",
    "    key = ord(char[0]) - 44032\n",
    "    end = int(key % 28)\n",
    "    mid = int((key - end) / 28 % 21)\n",
    "    srt = int((key / 28 - mid) / 21)\n",
    "    return srts[srt], mids[mid], ends[end]\n",
    "\n",
    "def merge_char(srt, mid, end):\n",
    "    i = 44032 + 28 * 21 * srts.index(srt) + 28 * mids.index(mid) + ends.index(end)\n",
    "    return chr(i)\n",
    "\n",
    "def split_text(text):\n",
    "    output = list()\n",
    "    for w in text:\n",
    "        if ord('가') <= ord(w) and ord(w) <= ord('힣'):\n",
    "            output.append(''.join(split_char(w)))\n",
    "        else:\n",
    "            output.append(w)\n",
    "    return ''.join(output)\n",
    "\n",
    "def merge_text(text):\n",
    "    output = list()\n",
    "    text = deque([w for w in text])\n",
    "    while len(text) != 0:\n",
    "        if len(text) >= 3 and text[0] in srts and text[1] in mids and text[2] in ends and (len(text) == 3 or text[3] not in mids):\n",
    "            output.append(merge_char(text.popleft(), text.popleft(), text.popleft()))\n",
    "        elif len(text) >=2 and text[0] in srts and text[1] in mids:\n",
    "            output.append(merge_char(text.popleft(), text.popleft(), ''))\n",
    "        else:\n",
    "            output.append(text.popleft())\n",
    "    \n",
    "    return ''.join(output)"
   ]
  },
  {
   "cell_type": "code",
   "execution_count": 2,
   "metadata": {},
   "outputs": [],
   "source": [
    "text = '파란 색깔 지붕 위에 있던 많은 사람들은 핵무기를 소지하고 있었다.'\n",
    "\n",
    "eomi = open('어미_상세.txt').read().split('\\n\\n')\n",
    "josa = open('조사_상세.txt', encoding='euc-kr').read().split('\\n\\n')\n",
    "josa.remove('')\n",
    "\n",
    "eomi = [split_text(e) for e in eomi]\n",
    "josa = [split_text(j) for j in josa]"
   ]
  },
  {
   "cell_type": "code",
   "execution_count": 3,
   "metadata": {
    "collapsed": true
   },
   "outputs": [],
   "source": [
    "splited_text = text.split(' ')"
   ]
  },
  {
   "cell_type": "code",
   "execution_count": 4,
   "metadata": {},
   "outputs": [
    {
     "data": {
      "text/plain": [
       "['파란', '색깔', '지붕', '위에', '있던', '많은', '사람들은', '핵무기를', '소지하고', '있었다.']"
      ]
     },
     "execution_count": 4,
     "metadata": {},
     "output_type": "execute_result"
    }
   ],
   "source": [
    "splited_text"
   ]
  },
  {
   "cell_type": "code",
   "execution_count": 9,
   "metadata": {
    "collapsed": true
   },
   "outputs": [],
   "source": [
    "def find_josa(ejol):\n",
    "    found = list()\n",
    "    for j in josa:\n",
    "        if split_text(ejol).endswith(j):\n",
    "            found.append(j)\n",
    "    return found\n",
    "\n",
    "def find_eomi(ejol):\n",
    "    found = list()\n",
    "    for e in eomi:\n",
    "        if split_text(ejol).endswith(e):\n",
    "            found.append(e)\n",
    "    return found"
   ]
  },
  {
   "cell_type": "code",
   "execution_count": 10,
   "metadata": {},
   "outputs": [
    {
     "name": "stdout",
     "output_type": "stream",
     "text": [
      "파란 ['ㄴ', 'ㄹㅏㄴ'] ['ㄴ', 'ㄹㅏㄴ']\n",
      "색깔 ['ㄹ'] ['ㄹ']\n",
      "지붕 [] []\n",
      "위에 ['ㅇㅔ'] []\n",
      "있던 ['ㄴ'] ['ㄴ', 'ㄷㅓㄴ']\n",
      "많은 ['ㄴ', 'ㅇㅡㄴ'] ['ㄴ', 'ㅇㅡㄴ']\n",
      "사람들은 ['ㄴ', 'ㅇㅡㄴ'] ['ㄴ', 'ㅇㅡㄴ']\n",
      "핵무기를 ['ㄹ', 'ㄹㅡㄹ'] ['ㄹ']\n",
      "소지하고 ['ㄱㅗ', 'ㅎㅏㄱㅗ'] ['ㄱㅗ']\n",
      "있었다. [] []\n"
     ]
    }
   ],
   "source": [
    "for s in splited_text:\n",
    "    print(s, find_josa(s), find_eomi(s))"
   ]
  },
  {
   "cell_type": "code",
   "execution_count": null,
   "metadata": {
    "collapsed": true
   },
   "outputs": [],
   "source": []
  }
 ],
 "metadata": {
  "kernelspec": {
   "display_name": "Python 3",
   "language": "python",
   "name": "python3"
  },
  "language_info": {
   "codemirror_mode": {
    "name": "ipython",
    "version": 3
   },
   "file_extension": ".py",
   "mimetype": "text/x-python",
   "name": "python",
   "nbconvert_exporter": "python",
   "pygments_lexer": "ipython3",
   "version": "3.6.1"
  }
 },
 "nbformat": 4,
 "nbformat_minor": 2
}
